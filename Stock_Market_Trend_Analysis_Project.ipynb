{
  "nbformat": 4,
  "nbformat_minor": 0,
  "metadata": {
    "colab": {
      "provenance": []
    },
    "kernelspec": {
      "name": "python3",
      "display_name": "Python 3"
    },
    "language_info": {
      "name": "python"
    }
  },
  "cells": [
    {
      "cell_type": "markdown",
      "source": [
        "#Step 1:\n",
        "Installing the required packages"
      ],
      "metadata": {
        "id": "R1lnsbmCOMsN"
      }
    },
    {
      "cell_type": "code",
      "execution_count": null,
      "metadata": {
        "colab": {
          "base_uri": "https://localhost:8080/"
        },
        "id": "LI_oPOhxMuD9",
        "outputId": "c2a5cfe9-7139-42d2-9562-94827c8b372c"
      },
      "outputs": [
        {
          "output_type": "stream",
          "name": "stdout",
          "text": [
            "Requirement already satisfied: yfinance in /usr/local/lib/python3.11/dist-packages (0.2.65)\n",
            "Requirement already satisfied: pandas in /usr/local/lib/python3.11/dist-packages (2.2.2)\n",
            "Requirement already satisfied: numpy>=1.16.5 in /usr/local/lib/python3.11/dist-packages (from yfinance) (2.0.2)\n",
            "Requirement already satisfied: requests>=2.31 in /usr/local/lib/python3.11/dist-packages (from yfinance) (2.32.3)\n",
            "Requirement already satisfied: multitasking>=0.0.7 in /usr/local/lib/python3.11/dist-packages (from yfinance) (0.0.12)\n",
            "Requirement already satisfied: platformdirs>=2.0.0 in /usr/local/lib/python3.11/dist-packages (from yfinance) (4.3.8)\n",
            "Requirement already satisfied: pytz>=2022.5 in /usr/local/lib/python3.11/dist-packages (from yfinance) (2025.2)\n",
            "Requirement already satisfied: frozendict>=2.3.4 in /usr/local/lib/python3.11/dist-packages (from yfinance) (2.4.6)\n",
            "Requirement already satisfied: peewee>=3.16.2 in /usr/local/lib/python3.11/dist-packages (from yfinance) (3.18.2)\n",
            "Requirement already satisfied: beautifulsoup4>=4.11.1 in /usr/local/lib/python3.11/dist-packages (from yfinance) (4.13.4)\n",
            "Requirement already satisfied: curl_cffi>=0.7 in /usr/local/lib/python3.11/dist-packages (from yfinance) (0.13.0)\n",
            "Requirement already satisfied: protobuf>=3.19.0 in /usr/local/lib/python3.11/dist-packages (from yfinance) (5.29.5)\n",
            "Requirement already satisfied: websockets>=13.0 in /usr/local/lib/python3.11/dist-packages (from yfinance) (15.0.1)\n",
            "Requirement already satisfied: python-dateutil>=2.8.2 in /usr/local/lib/python3.11/dist-packages (from pandas) (2.9.0.post0)\n",
            "Requirement already satisfied: tzdata>=2022.7 in /usr/local/lib/python3.11/dist-packages (from pandas) (2025.2)\n",
            "Requirement already satisfied: soupsieve>1.2 in /usr/local/lib/python3.11/dist-packages (from beautifulsoup4>=4.11.1->yfinance) (2.7)\n",
            "Requirement already satisfied: typing-extensions>=4.0.0 in /usr/local/lib/python3.11/dist-packages (from beautifulsoup4>=4.11.1->yfinance) (4.14.1)\n",
            "Requirement already satisfied: cffi>=1.12.0 in /usr/local/lib/python3.11/dist-packages (from curl_cffi>=0.7->yfinance) (1.17.1)\n",
            "Requirement already satisfied: certifi>=2024.2.2 in /usr/local/lib/python3.11/dist-packages (from curl_cffi>=0.7->yfinance) (2025.8.3)\n",
            "Requirement already satisfied: six>=1.5 in /usr/local/lib/python3.11/dist-packages (from python-dateutil>=2.8.2->pandas) (1.17.0)\n",
            "Requirement already satisfied: charset-normalizer<4,>=2 in /usr/local/lib/python3.11/dist-packages (from requests>=2.31->yfinance) (3.4.2)\n",
            "Requirement already satisfied: idna<4,>=2.5 in /usr/local/lib/python3.11/dist-packages (from requests>=2.31->yfinance) (3.10)\n",
            "Requirement already satisfied: urllib3<3,>=1.21.1 in /usr/local/lib/python3.11/dist-packages (from requests>=2.31->yfinance) (2.5.0)\n",
            "Requirement already satisfied: pycparser in /usr/local/lib/python3.11/dist-packages (from cffi>=1.12.0->curl_cffi>=0.7->yfinance) (2.22)\n"
          ]
        }
      ],
      "source": [
        "pip install yfinance pandas"
      ]
    },
    {
      "cell_type": "markdown",
      "source": [
        "#Step 2:\n",
        "Writing the python scripts to download stock data"
      ],
      "metadata": {
        "id": "_NUFxtPAOdr3"
      }
    },
    {
      "cell_type": "code",
      "source": [
        "#import libraries\n",
        "\n",
        "import yfinance as yf\n",
        "import pandas as pd\n",
        "import glob\n",
        "from datetime import datetime"
      ],
      "metadata": {
        "id": "qm-kFd6-1azz"
      },
      "execution_count": null,
      "outputs": []
    },
    {
      "cell_type": "code",
      "source": [
        "\n",
        "\n",
        "# List of stocks being tracked\n",
        "tickers_info = {\n",
        "    \"AAPL\": \"Technology\", #Apple Inc\n",
        "    \"MSFT\": \"Technology\", #Microsoft Corporation\n",
        "    \"TSLA\": \"Automotive\", #Tesla\n",
        "    \"AMZN\": \"E-commerce\", #Amazon.com Inc\n",
        "    \"GOOG\": \"Technology\", #Alphabet Inc (Google)\n",
        "    \"META\": \"Technology/Social Media\", #Meta Platforms Inc (Facebook)\n",
        "    \"NVDA\": \"Semiconductors\",  #NVIDIA Corporation\n",
        "    \"JPM\": \"Banking\",          #JPMorgan Chase & Co\n",
        "    \"XOM\": \"Energy\",           #Exxon Mobil Corporation\n",
        "    \"BRK-B\": \"Conglomerate\"    #Berkshire Hathaway Inc. (Class B)\n",
        "}\n",
        "\n",
        "\n",
        "#Define date range\n",
        "\n",
        "start_date = \"2020-01-01\"\n",
        "end_date = datetime.today().strftime('%Y-%m-%d')\n",
        "\n",
        "#Downloading data\n",
        "\n",
        "data = yf.download(list(tickers_info.keys()), start=start_date, end=end_date, group_by='ticker', auto_adjust=False)\n",
        "\n",
        "#step 3: processing data\n",
        "\n",
        "all_data = [] #created an empty list to house the processed data\n",
        "\n",
        "for ticker, sector in tickers_info.items():\n",
        "    df = data[ticker].copy()  #gets only ticker data\n",
        "    df['Ticker'] = ticker\n",
        "    df['Sector'] = sector\n",
        "    df['Daily Return'] = df['Adj Close'].pct_change()\n",
        "    df['Cumulative Return'] = (1 + df['Daily Return']).cumprod() - 1\n",
        "    df['MA50'] = df['Adj Close'].rolling(window=50).mean()\n",
        "    df['MA200'] = df['Adj Close'].rolling(window=200).mean()\n",
        "    df = df.reset_index()\n",
        "    all_data.append(df)\n",
        "\n",
        "# Step 4: Combining all stocks\n",
        "final_df = pd.concat(all_data)\n",
        "\n",
        "# STEP 5: Save to CSV\n",
        "final_df.to_csv(\"stock_data.csv\", index=False)\n",
        "print(\"✅ Stock data with sectors saved to 'stock_data.csv'\")\n"
      ],
      "metadata": {
        "colab": {
          "base_uri": "https://localhost:8080/"
        },
        "id": "luv6ocBnN_fy",
        "outputId": "cf4a5733-1617-412c-9ef7-5d79280304b2"
      },
      "execution_count": null,
      "outputs": [
        {
          "output_type": "stream",
          "name": "stderr",
          "text": [
            "[*********************100%***********************]  10 of 10 completed\n"
          ]
        },
        {
          "output_type": "stream",
          "name": "stdout",
          "text": [
            "✅ Stock data with sectors saved to 'stock_data.csv'\n"
          ]
        }
      ]
    },
    {
      "cell_type": "markdown",
      "source": [
        "#Nigeria Stocks\n",
        "To download Nigeria stock data, I will be making use of investing.com"
      ],
      "metadata": {
        "id": "0kAVpNq2ZtF8"
      }
    },
    {
      "cell_type": "code",
      "source": [
        "from google.colab import drive\n",
        "drive.mount(\"/content/drive\", force_remount=True)\n",
        "\n",
        "# Change path to where your folder is in Google Drive\n",
        "import glob\n",
        "nigerian_files = glob.glob(\"/content/drive/MyDrive/nigerian_stocks/*.csv\")"
      ],
      "metadata": {
        "colab": {
          "base_uri": "https://localhost:8080/"
        },
        "id": "MuAXMgg13aMB",
        "outputId": "c49828d1-fb08-4f79-fb93-1cd22f7a95c0"
      },
      "execution_count": null,
      "outputs": [
        {
          "output_type": "stream",
          "name": "stdout",
          "text": [
            "Mounted at /content/drive\n"
          ]
        }
      ]
    },
    {
      "cell_type": "code",
      "source": [
        "#dictionary of Nigerian stocks and sectors\n",
        "nigerian_stocks = {\n",
        "    \"GTCO\": \"Banking\",  #GTBank\n",
        "    \"ZENITHBANK\": \"Banking\",   #Zenith Bank\n",
        "    \"MTNN\": \"Telecoms\",        #MTN Nigeria\n",
        "    \"DANGCEM\": \"Industrial\",   #Dangote Cement\n",
        "    \"AIRTELAFRI\": \"Telecoms\"   #Airtel Africa\n",
        "}\n",
        "\n",
        "nigerian_data_list = []\n",
        "\n",
        "# Loop through all CSV files in the \"nigerian_stocks\" folder\n",
        "for file in glob.glob(\"/content/drive/MyDrive/nigerian_stocks/*.csv\"):\n",
        "    ticker = file.split(\"/\")[-1].replace(\".csv\", \"\").upper()  # Get ticker from filename\n",
        "\n",
        "    if ticker in nigerian_stocks:\n",
        "        df = pd.read_csv(file)\n",
        "\n",
        " # Rename columns if needed (Investing.com format)\n",
        "        df.rename(columns={\n",
        "            'Price': 'Adj Close',\n",
        "            'Open': 'Open',\n",
        "            'High': 'High',\n",
        "            'Low': 'Low',\n",
        "            'Vol.': 'Volume'\n",
        "        }, inplace=True, errors='ignore')\n",
        "\n",
        "        # Convert Date to datetime format\n",
        "        df['Date'] = pd.to_datetime(df['Date'])\n",
        "\n",
        "        # Sort by date\n",
        "        df = df.sort_values('Date')\n",
        "\n",
        "  # 🔹 CLEAN numeric columns: remove commas and convert to float\n",
        "        for col in ['Adj Close', 'Open', 'High', 'Low', 'Volume']:\n",
        "            if col in df.columns:\n",
        "                df[col] = pd.to_numeric(df[col].astype(str).str.replace(',', ''), errors='coerce')\n",
        "\n",
        "        # Add calculated columns\n",
        "        df['Ticker'] = ticker\n",
        "        df['Sector'] = nigerian_stocks[ticker]\n",
        "        df['Daily Return'] = df['Adj Close'].pct_change()\n",
        "        df['Cumulative Return'] = (1 + df['Daily Return']).cumprod() - 1\n",
        "        df['MA50'] = df['Adj Close'].rolling(window=50).mean()\n",
        "        df['MA200'] = df['Adj Close'].rolling(window=200).mean()\n",
        "        df['Country'] = \"Nigeria\"\n",
        "\n",
        "        nigerian_data_list.append(df)\n",
        "\n",
        "# Combine all Nigerian stocks into one DataFrame\n",
        "nigeria_df = pd.concat(nigerian_data_list, ignore_index=True)\n",
        "\n",
        "print(f\"✅ Nigerian stock data ready! Shape: {nigeria_df.shape}\")"
      ],
      "metadata": {
        "colab": {
          "base_uri": "https://localhost:8080/"
        },
        "id": "xQL4Ebwa0Tzd",
        "outputId": "643a4df9-2486-4e9e-f2f5-bddb61ef4262"
      },
      "execution_count": null,
      "outputs": [
        {
          "output_type": "stream",
          "name": "stdout",
          "text": [
            "✅ Nigerian stock data ready! Shape: (6926, 14)\n"
          ]
        }
      ]
    },
    {
      "cell_type": "markdown",
      "source": [
        "Now, to combine the international data with the Nigerian data"
      ],
      "metadata": {
        "id": "LUIPR0Jf9Ev2"
      }
    },
    {
      "cell_type": "code",
      "source": [
        "combined_df = pd.concat([final_df, nigeria_df], ignore_index=True)\n",
        "combined_df.to_csv(\"combined_stock_data.csv\", index=False)\n",
        "print(\"✅ Final dataset saved as 'combined_stock_data.csv'\")\n"
      ],
      "metadata": {
        "colab": {
          "base_uri": "https://localhost:8080/"
        },
        "id": "H3kdv7WD9JHq",
        "outputId": "e3bdb1a3-36da-4f75-feb8-50a13563818b"
      },
      "execution_count": null,
      "outputs": [
        {
          "output_type": "stream",
          "name": "stdout",
          "text": [
            "✅ Final dataset saved as 'combined_stock_data.csv'\n"
          ]
        }
      ]
    },
    {
      "cell_type": "markdown",
      "source": [
        "To clean and validate combined data\n",
        "- check for missing values\n",
        "- remove outliers\n",
        "- ensure date column is in proper date time format"
      ],
      "metadata": {
        "id": "oDnR8zPK932B"
      }
    },
    {
      "cell_type": "code",
      "source": [
        "df = pd.read_csv(\"combined_stock_data.csv\")\n",
        "df['Date'] = pd.to_datetime(df['Date'])\n",
        "print(df.info())\n",
        "print(df.isna().sum())"
      ],
      "metadata": {
        "colab": {
          "base_uri": "https://localhost:8080/"
        },
        "id": "XZ7IKNeR9646",
        "outputId": "fc0da917-5bc2-4b68-a70c-d1de4ff54bd5"
      },
      "execution_count": null,
      "outputs": [
        {
          "output_type": "stream",
          "name": "stdout",
          "text": [
            "<class 'pandas.core.frame.DataFrame'>\n",
            "RangeIndex: 21026 entries, 0 to 21025\n",
            "Data columns (total 15 columns):\n",
            " #   Column             Non-Null Count  Dtype         \n",
            "---  ------             --------------  -----         \n",
            " 0   Date               21026 non-null  datetime64[ns]\n",
            " 1   Open               21026 non-null  float64       \n",
            " 2   High               21026 non-null  float64       \n",
            " 3   Low                21026 non-null  float64       \n",
            " 4   Close              14100 non-null  float64       \n",
            " 5   Adj Close          21026 non-null  float64       \n",
            " 6   Volume             14100 non-null  float64       \n",
            " 7   Ticker             21026 non-null  object        \n",
            " 8   Sector             21026 non-null  object        \n",
            " 9   Daily Return       21011 non-null  float64       \n",
            " 10  Cumulative Return  21011 non-null  float64       \n",
            " 11  MA50               20291 non-null  float64       \n",
            " 12  MA200              18041 non-null  float64       \n",
            " 13  Change %           6926 non-null   object        \n",
            " 14  Country            6926 non-null   object        \n",
            "dtypes: datetime64[ns](1), float64(10), object(4)\n",
            "memory usage: 2.4+ MB\n",
            "None\n",
            "Date                     0\n",
            "Open                     0\n",
            "High                     0\n",
            "Low                      0\n",
            "Close                 6926\n",
            "Adj Close                0\n",
            "Volume                6926\n",
            "Ticker                   0\n",
            "Sector                   0\n",
            "Daily Return            15\n",
            "Cumulative Return       15\n",
            "MA50                   735\n",
            "MA200                 2985\n",
            "Change %             14100\n",
            "Country              14100\n",
            "dtype: int64\n"
          ]
        }
      ]
    },
    {
      "cell_type": "code",
      "source": [
        "#to download final file to local computer\n",
        "from google.colab import files\n",
        "files.download(\"combined_stock_data.csv\")\n"
      ],
      "metadata": {
        "colab": {
          "base_uri": "https://localhost:8080/",
          "height": 17
        },
        "id": "TE99Ofr6_dS6",
        "outputId": "5ba82835-6956-42c0-e9a8-2c5bbc56d648"
      },
      "execution_count": null,
      "outputs": [
        {
          "output_type": "display_data",
          "data": {
            "text/plain": [
              "<IPython.core.display.Javascript object>"
            ],
            "application/javascript": [
              "\n",
              "    async function download(id, filename, size) {\n",
              "      if (!google.colab.kernel.accessAllowed) {\n",
              "        return;\n",
              "      }\n",
              "      const div = document.createElement('div');\n",
              "      const label = document.createElement('label');\n",
              "      label.textContent = `Downloading \"${filename}\": `;\n",
              "      div.appendChild(label);\n",
              "      const progress = document.createElement('progress');\n",
              "      progress.max = size;\n",
              "      div.appendChild(progress);\n",
              "      document.body.appendChild(div);\n",
              "\n",
              "      const buffers = [];\n",
              "      let downloaded = 0;\n",
              "\n",
              "      const channel = await google.colab.kernel.comms.open(id);\n",
              "      // Send a message to notify the kernel that we're ready.\n",
              "      channel.send({})\n",
              "\n",
              "      for await (const message of channel.messages) {\n",
              "        // Send a message to notify the kernel that we're ready.\n",
              "        channel.send({})\n",
              "        if (message.buffers) {\n",
              "          for (const buffer of message.buffers) {\n",
              "            buffers.push(buffer);\n",
              "            downloaded += buffer.byteLength;\n",
              "            progress.value = downloaded;\n",
              "          }\n",
              "        }\n",
              "      }\n",
              "      const blob = new Blob(buffers, {type: 'application/binary'});\n",
              "      const a = document.createElement('a');\n",
              "      a.href = window.URL.createObjectURL(blob);\n",
              "      a.download = filename;\n",
              "      div.appendChild(a);\n",
              "      a.click();\n",
              "      div.remove();\n",
              "    }\n",
              "  "
            ]
          },
          "metadata": {}
        },
        {
          "output_type": "display_data",
          "data": {
            "text/plain": [
              "<IPython.core.display.Javascript object>"
            ],
            "application/javascript": [
              "download(\"download_2588edf4-a9b6-4e27-86e8-0cf9b0dc1145\", \"combined_stock_data.csv\", 3713003)"
            ]
          },
          "metadata": {}
        }
      ]
    }
  ]
}